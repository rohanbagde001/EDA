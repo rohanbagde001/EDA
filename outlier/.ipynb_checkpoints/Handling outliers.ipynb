{
 "cells": [
  {
   "cell_type": "code",
   "execution_count": null,
   "metadata": {},
   "outputs": [],
   "source": [
    "1. what is outlier\n",
    "2. cause of outlier\n",
    "3. \n",
    "4. removing the outlier\n",
    "5. outlier effect on machine learning algorithm\n"
   ]
  },
  {
   "cell_type": "markdown",
   "metadata": {},
   "source": [
    "### What is a outlier?\n",
    "Outliers are extreme values that deviate from other observations on data , they may indicate a variability in a measurement, experimental errors or a novelty. In other words, an outlier is an observation that diverges from an overall pattern on a sample."
   ]
  },
  {
   "cell_type": "markdown",
   "metadata": {},
   "source": [
    "### Types of Outlier\n",
    "\n",
    "Outliers can be of two kinds: \n",
    "- univariate : Univariate outliers can be found when looking at a distribution of values in a single feature space\n",
    "- multivariate : Multivariate outliers can be found in a n-dimensional space (of n-features). Looking at distributions in n-dimensional spaces can be very difficult for the human brain, that is why we need to train a model to do it for us.\n",
    "\n",
    "\n",
    "### Outliers can also come in different flavours, depending on the environment:\n",
    "\n",
    "- point outliers: Point outliers are single data points that lay far from the rest of the distribution.\n",
    "\n",
    "- contextual outliers:  Contextual outliers can be noise in data, such as punctuation symbols when realizing text analysis or background noise signal when doing speech recognition.\n",
    "\n",
    "- collective outliers: Collective outliers can be subsets of novelties in data such as a signal that may indicate the discovery of new phenomena (As in figure B).\n",
    "\n",
    " "
   ]
  },
  {
   "cell_type": "markdown",
   "metadata": {},
   "source": [
    "### Most common causes of outliers on a data set:\n",
    "- Data entry errors (human errors)\n",
    "- Measurement errors (instrument errors)\n",
    "- Experimental errors (data extraction or experiment planning/executing errors)\n",
    "- Intentional (dummy outliers made to test detection methods)\n",
    "- Data processing errors (data manipulation or data set unintended mutations)\n",
    "- Sampling errors (extracting or mixing data from wrong or various sources)\n",
    "- Natural (not an error, novelties in data)"
   ]
  },
  {
   "cell_type": "markdown",
   "metadata": {},
   "source": [
    "### Detetcton of Outlier\n",
    "#### Some of the most popular methods for outlier detection are:\n",
    "    \n",
    "- Z-Score or Extreme Value Analysis (parametric)\n",
    "\n",
    "- Probabilistic and Statistical Modeling (parametric)\n",
    "\n",
    "- Linear Regression Models (PCA, LMS)\n",
    "\n",
    "- Proximity Based Models (non-parametric)\n",
    "\n",
    "- Information Theory Models\n",
    "\n",
    "- High Dimensional Outlier Detection Methods (high dimensional sparse data)"
   ]
  },
  {
   "cell_type": "markdown",
   "metadata": {},
   "source": [
    "### Removing The Outlier"
   ]
  },
  {
   "cell_type": "markdown",
   "metadata": {},
   "source": [
    "- Z-score treatment\n",
    "\n",
    "- IQR based filtering\n",
    "\n",
    "- Percentile"
   ]
  },
  {
   "cell_type": "markdown",
   "metadata": {},
   "source": [
    "### Different Algorithm for outlier detection(Automatic Outlier Detection)\n",
    "\n",
    "- Isolation Forest\n",
    "- Minimum Covariance Determinant\n",
    "- Local Outlier Factor\n",
    "- One-Class SVM"
   ]
  },
  {
   "cell_type": "markdown",
   "metadata": {},
   "source": [
    "### Outlier effect on Machine Learing Algorithm\n",
    "\n",
    "- Which Machine LEarning Models Are Sensitive To Outliers?\n",
    "\n",
    "1. Naivye Bayes Classifier-----Not Sensitive To Outliers\n",
    "2. SVM--------                -Not Sensitive To Outliers          \n",
    "3. Linear Regression----------  Sensitive To Outliers\n",
    "4. Logistic Regression-------   Sensitive To Outliers\n",
    "5. Decision Tree Regressor or Classifier---- Not Sensitive\n",
    "6. Ensemble(RF,XGboost,GB)------- Not Sensitive\n",
    "7. KNN--------------------------- Not Sensitive \n",
    "8. Kmeans------------------------ Sensitive\n",
    "9. Hierarichal------------------- Sensitive \n",
    "10. PCA-------------------------- Sensitive \n",
    "11. Neural Networks-------------- Sensitive"
   ]
  },
  {
   "cell_type": "code",
   "execution_count": null,
   "metadata": {},
   "outputs": [],
   "source": []
  }
 ],
 "metadata": {
  "kernelspec": {
   "display_name": "Python 3",
   "language": "python",
   "name": "python3"
  },
  "language_info": {
   "codemirror_mode": {
    "name": "ipython",
    "version": 3
   },
   "file_extension": ".py",
   "mimetype": "text/x-python",
   "name": "python",
   "nbconvert_exporter": "python",
   "pygments_lexer": "ipython3",
   "version": "3.8.3"
  }
 },
 "nbformat": 4,
 "nbformat_minor": 4
}
